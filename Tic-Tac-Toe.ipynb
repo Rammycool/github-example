{
 "cells": [
  {
   "cell_type": "markdown",
   "metadata": {},
   "source": [
    "# Let's Play Tic-Tac-Toe"
   ]
  },
  {
   "cell_type": "code",
   "execution_count": null,
   "metadata": {},
   "outputs": [
    {
     "name": "stdout",
     "output_type": "stream",
     "text": [
      "Tic Tac Toe\n",
      "player A should enter even numbers only and player B should enter odd numbers only\n",
      "the player with the ood numbers start\n",
      "| 0 | 0 | 0 |\n",
      "--------------------\n",
      "| 0 | 0 | 0 |\n",
      "--------------------\n",
      "| 0 | 0 | 0 |\n",
      "its a turn\n",
      "enter the number: 2\n",
      "enter the places number: 3\n",
      "| 0 | 0 | 0 |\n",
      "--------------------\n",
      "| 2 | 0 | 0 |\n",
      "--------------------\n",
      "| 0 | 0 | 0 |\n",
      "its b turn\n",
      "enter the number: 1\n",
      "enter the places number: 2\n",
      "| 0 | 0 | 1 |\n",
      "--------------------\n",
      "| 2 | 0 | 0 |\n",
      "--------------------\n",
      "| 0 | 0 | 0 |\n",
      "its a turn\n",
      "enter the number: 5\n",
      "enter the places number: 6\n",
      "enter an even number6\n",
      "| 0 | 0 | 1 |\n",
      "--------------------\n",
      "| 2 | 0 | 0 |\n",
      "--------------------\n",
      "| 6 | 0 | 0 |\n",
      "its b turn\n"
     ]
    }
   ],
   "source": [
    "board = [0, 0, 0,\n",
    "         0, 0, 0,\n",
    "         0, 0, 0]\n",
    "player = 'A' #with this we'll know which player's turn it is\n",
    "\n",
    "def tic_tac_toe ():\n",
    "    print ('|' ,board[0],'|',board[1] ,'|', board[2],'|')\n",
    "    print ('--------------------')\n",
    "    print ('|' ,board[3],'|',board[4] ,'|', board[5],'|')\n",
    "    print ('--------------------')\n",
    "    print ('|' ,board[6],'|',board[7] ,'|', board[8],'|')\n",
    "\n",
    "def move(x1,x2):\n",
    "    board[x2] = x1\n",
    "    tic_tac_toe()\n",
    "\n",
    "def odd (x, x2):\n",
    "    while  (x%2==0):\n",
    "        x = int(input ('enter an odd number'))\n",
    "    #Nothing here because if we get out of the while is because it's a valid number (we're not checking numbers out of range or anything)\n",
    "    move (x ,x2)      \n",
    "\n",
    "def even (x ,x2) :\n",
    "    while  (x%2!=0):\n",
    "        x = int(input ('enter an even number'))\n",
    "    #Same here\n",
    "    move (x ,x2)        \n",
    "\n",
    "def winner ():\n",
    "    if (board[0]+board [1]+board[2]==15 or\n",
    "        board[0]+board [3]+board[6]==15 or\n",
    "        board[1]+board [4]+board[7]==15 or\n",
    "        board[3]+board [4]+board[5]==15 or\n",
    "        board[2]+board [5]+board[8]==15 or\n",
    "        board[6]+board [7]+board[8]==15):\n",
    "        print ('you are the winner')\n",
    "        return True #To know if we need to stop the game\n",
    "    else: return False\n",
    "\n",
    "def turn(s):\n",
    "    print ('its '+ s +' turn')\n",
    "    x = int (input ('enter the number: '))\n",
    "    x1 = int (input ('enter the places number: '))\n",
    "    if player == 'a':\n",
    "        even(x, x1)\n",
    "    else: odd(x, x1)          \n",
    "\n",
    "print('Tic Tac Toe')\n",
    "print ('player A should enter even numbers only'+' and player B should enter odd numbers only')\n",
    "print ('the player with the ood numbers start')\n",
    "tic_tac_toe ()\n",
    "while (True):\n",
    "    turn(player)\n",
    "    if winner(): break\n",
    "    else:\n",
    "        if player == 'A': player = 'B'\n",
    "        else: player = 'A'    "
   ]
  },
  {
   "cell_type": "code",
   "execution_count": null,
   "metadata": {},
   "outputs": [],
   "source": []
  }
 ],
 "metadata": {
  "kernelspec": {
   "display_name": "Python 3",
   "language": "python",
   "name": "python3"
  },
  "language_info": {
   "codemirror_mode": {
    "name": "ipython",
    "version": 3
   },
   "file_extension": ".py",
   "mimetype": "text/x-python",
   "name": "python",
   "nbconvert_exporter": "python",
   "pygments_lexer": "ipython3",
   "version": "3.7.6"
  }
 },
 "nbformat": 4,
 "nbformat_minor": 4
}
